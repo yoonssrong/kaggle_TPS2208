{
 "cells": [
  {
   "cell_type": "code",
   "execution_count": 6,
   "id": "7d68e41f",
   "metadata": {},
   "outputs": [],
   "source": [
    "import numpy as np\n",
    "import pandas as pd\n",
    "\n",
    "from sklearn.linear_model import LinearRegression"
   ]
  },
  {
   "cell_type": "code",
   "execution_count": 74,
   "id": "ac94ccde",
   "metadata": {},
   "outputs": [],
   "source": [
    "train = pd.read_csv('./data/train.csv')\n",
    "test = pd.read_csv('./data/test.csv')"
   ]
  },
  {
   "cell_type": "code",
   "execution_count": 75,
   "id": "0528701c",
   "metadata": {
    "scrolled": true
   },
   "outputs": [
    {
     "data": {
      "text/plain": [
       "id                   0\n",
       "product_code         0\n",
       "loading            250\n",
       "attribute_0          0\n",
       "attribute_1          0\n",
       "attribute_2          0\n",
       "attribute_3          0\n",
       "measurement_0        0\n",
       "measurement_1        0\n",
       "measurement_2        0\n",
       "measurement_3      381\n",
       "measurement_4      538\n",
       "measurement_5      676\n",
       "measurement_6      796\n",
       "measurement_7      937\n",
       "measurement_8     1048\n",
       "measurement_9     1227\n",
       "measurement_10    1300\n",
       "measurement_11    1468\n",
       "measurement_12    1601\n",
       "measurement_13    1774\n",
       "measurement_14    1874\n",
       "measurement_15    2009\n",
       "measurement_16    2110\n",
       "measurement_17    2284\n",
       "failure              0\n",
       "dtype: int64"
      ]
     },
     "metadata": {},
     "output_type": "display_data"
    },
    {
     "name": "stdout",
     "output_type": "stream",
     "text": [
      "\r\n",
      " ============================== \r\n",
      "\n"
     ]
    },
    {
     "data": {
      "text/plain": [
       "id                   0\n",
       "product_code         0\n",
       "loading            223\n",
       "attribute_0          0\n",
       "attribute_1          0\n",
       "attribute_2          0\n",
       "attribute_3          0\n",
       "measurement_0        0\n",
       "measurement_1        0\n",
       "measurement_2        0\n",
       "measurement_3      329\n",
       "measurement_4      409\n",
       "measurement_5      508\n",
       "measurement_6      624\n",
       "measurement_7      720\n",
       "measurement_8      846\n",
       "measurement_9      904\n",
       "measurement_10    1067\n",
       "measurement_11    1136\n",
       "measurement_12    1240\n",
       "measurement_13    1303\n",
       "measurement_14    1440\n",
       "measurement_15    1542\n",
       "measurement_16    1678\n",
       "measurement_17    1740\n",
       "dtype: int64"
      ]
     },
     "metadata": {},
     "output_type": "display_data"
    }
   ],
   "source": [
    "display(train.isnull().sum())\n",
    "print('\\r\\n', '='*30, '\\r\\n')\n",
    "display(test.isnull().sum())"
   ]
  },
  {
   "cell_type": "code",
   "execution_count": 76,
   "id": "565da585",
   "metadata": {},
   "outputs": [],
   "source": [
    "def fill_missing(df):\n",
    "    numerics = ['int16', 'int32', 'int64','float16','float32', 'float64']\n",
    "    for col in df.select_dtypes(include=numerics):\n",
    "        df[col] = df[col].fillna(value = df[col].mean())\n",
    "    \n",
    "    for col in df.select_dtypes(exclude=numerics):\n",
    "        df[col] = df[col].fillna(value = df[col].mode())\n",
    "    return df\n",
    "\n",
    "train = fill_missing(train)\n",
    "test = fill_missing(test)"
   ]
  },
  {
   "cell_type": "code",
   "execution_count": 77,
   "id": "ee805c1f",
   "metadata": {},
   "outputs": [],
   "source": [
    "train = train.drop(['product_code', 'attribute_0', 'attribute_1', 'attribute_2', 'attribute_3'], axis=1)\n",
    "test = test.drop(['product_code', 'attribute_0', 'attribute_1', 'attribute_2', 'attribute_3'], axis=1)"
   ]
  },
  {
   "cell_type": "code",
   "execution_count": 78,
   "id": "108398c4",
   "metadata": {},
   "outputs": [],
   "source": [
    "weight = 1. / (train.failure.value_counts().values / train.shape[0])"
   ]
  },
  {
   "cell_type": "code",
   "execution_count": 79,
   "id": "aeacf2a0",
   "metadata": {},
   "outputs": [
    {
     "data": {
      "text/plain": [
       "array([1.27001577, 4.70348734])"
      ]
     },
     "execution_count": 79,
     "metadata": {},
     "output_type": "execute_result"
    }
   ],
   "source": [
    "weight"
   ]
  },
  {
   "cell_type": "code",
   "execution_count": 80,
   "id": "99634651",
   "metadata": {},
   "outputs": [],
   "source": [
    "x_data = train.drop(['id', 'failure'], axis=1)\n",
    "y_data = train.failure\n",
    "\n",
    "x_test = test.drop('id', axis=1)"
   ]
  },
  {
   "cell_type": "code",
   "execution_count": 81,
   "id": "caccfbde",
   "metadata": {},
   "outputs": [],
   "source": [
    "from sklearn.preprocessing import StandardScaler\n",
    "\n",
    "scaler = StandardScaler()\n",
    "x_data = scaler.fit_transform(x_data)\n",
    "x_test = scaler.transform(x_test)"
   ]
  },
  {
   "cell_type": "code",
   "execution_count": 82,
   "id": "b03d7c21",
   "metadata": {},
   "outputs": [],
   "source": [
    "from sklearn.decomposition import PCA\n",
    "\n",
    "pca = PCA(n_components=9)\n",
    "x_data = pca.fit_transform(x_data)\n",
    "x_test = pca.transform(x_test)"
   ]
  },
  {
   "cell_type": "code",
   "execution_count": 83,
   "id": "c29112ab",
   "metadata": {},
   "outputs": [],
   "source": [
    "from sklearn.model_selection import train_test_split\n",
    "\n",
    "x_train, x_val, y_train, y_val = train_test_split(x_data, y_data, test_size=0.2)"
   ]
  },
  {
   "cell_type": "code",
   "execution_count": 84,
   "id": "a2e6f12f",
   "metadata": {},
   "outputs": [],
   "source": [
    "import torch\n",
    "import torch.nn as nn\n",
    "from torch.utils.data import TensorDataset\n",
    "from torch.utils.data import DataLoader\n",
    "from torch.optim import Adam\n",
    "from torch.nn import BCELoss\n",
    "\n",
    "import torch.nn.functional as F"
   ]
  },
  {
   "cell_type": "code",
   "execution_count": 85,
   "id": "edea8269",
   "metadata": {},
   "outputs": [],
   "source": [
    "x_train = torch.tensor(x_train, dtype=torch.float32)\n",
    "y_train = torch.tensor(y_train.values, dtype=torch.float32)\n",
    "\n",
    "x_val = torch.tensor(x_val, dtype=torch.float32)\n",
    "y_val = torch.tensor(y_val.values, dtype=torch.float32)"
   ]
  },
  {
   "cell_type": "code",
   "execution_count": 86,
   "id": "163f72d6",
   "metadata": {},
   "outputs": [],
   "source": [
    "from torch.utils.data import WeightedRandomSampler\n",
    "\n",
    "sample_weight = weight[y_train.detach().numpy().astype('int')]\n",
    "sampler = WeightedRandomSampler(weights=sample_weight, num_samples=len(sample_weight), replacement=True)"
   ]
  },
  {
   "cell_type": "code",
   "execution_count": 87,
   "id": "f92e429d",
   "metadata": {},
   "outputs": [],
   "source": [
    "train_datasets = TensorDataset(x_train, y_train)\n",
    "train_dataloader = DataLoader(train_datasets, batch_size=100, sampler=sampler)"
   ]
  },
  {
   "cell_type": "code",
   "execution_count": 105,
   "id": "16073068",
   "metadata": {},
   "outputs": [],
   "source": [
    "class Net(nn.Module):\n",
    "    def __init__(self):\n",
    "        super(Net, self).__init__()\n",
    "        \n",
    "        self.fc1 = nn.Linear(9, 100)\n",
    "        self.fc2 = nn.Linear(100, 50)\n",
    "        self.fc3 = nn.Linear(50, 1)\n",
    "        \n",
    "        self.bn1 = nn.BatchNorm1d(100)\n",
    "        self.bn2 = nn.BatchNorm1d(50)\n",
    "        \n",
    "    def forward(self, x):\n",
    "        x = F.relu(self.bn1(self.fc1(x)))\n",
    "        x = F.relu(self.bn2(self.fc2(x)))\n",
    "        x = F.sigmoid(self.fc3(x))\n",
    "        \n",
    "        return x"
   ]
  },
  {
   "cell_type": "code",
   "execution_count": 106,
   "id": "d7aa5d56",
   "metadata": {},
   "outputs": [],
   "source": [
    "model = Net()"
   ]
  },
  {
   "cell_type": "code",
   "execution_count": 107,
   "id": "f82f6d5f",
   "metadata": {},
   "outputs": [],
   "source": [
    "optimizer = Adam(params=model.parameters(), lr=0.01, weight_decay=0.0001)\n",
    "loss_func = BCELoss()"
   ]
  },
  {
   "cell_type": "code",
   "execution_count": 108,
   "id": "018cb1d6",
   "metadata": {},
   "outputs": [],
   "source": [
    "def weight_init(m):\n",
    "    if type(m) == nn.Linear:\n",
    "        torch.nn.init.xavier_uniform_(m.weight)"
   ]
  },
  {
   "cell_type": "code",
   "execution_count": 109,
   "id": "ed36bdae",
   "metadata": {},
   "outputs": [
    {
     "data": {
      "text/plain": [
       "Net(\n",
       "  (fc1): Linear(in_features=9, out_features=100, bias=True)\n",
       "  (fc2): Linear(in_features=100, out_features=50, bias=True)\n",
       "  (fc3): Linear(in_features=50, out_features=1, bias=True)\n",
       "  (bn1): BatchNorm1d(100, eps=1e-05, momentum=0.1, affine=True, track_running_stats=True)\n",
       "  (bn2): BatchNorm1d(50, eps=1e-05, momentum=0.1, affine=True, track_running_stats=True)\n",
       ")"
      ]
     },
     "execution_count": 109,
     "metadata": {},
     "output_type": "execute_result"
    }
   ],
   "source": [
    "model.apply(weight_init)"
   ]
  },
  {
   "cell_type": "code",
   "execution_count": 110,
   "id": "fcea99a5",
   "metadata": {},
   "outputs": [],
   "source": [
    "def train(model, train_data, epochs):\n",
    "    for i in range(epochs):\n",
    "        loss_sum = 0\n",
    "        for x, label in train_dataloader:\n",
    "            loss = loss_func(model(x), label.view(-1,1))\n",
    "            optimizer.zero_grad()\n",
    "            loss.backward()\n",
    "            optimizer.step()\n",
    "\n",
    "            loss_sum += loss.item()\n",
    "\n",
    "        if i % 10 == 0:\n",
    "            print('loss :', loss_sum / len(train_dataloader))"
   ]
  },
  {
   "cell_type": "code",
   "execution_count": 111,
   "id": "3d4eba21",
   "metadata": {},
   "outputs": [
    {
     "name": "stderr",
     "output_type": "stream",
     "text": [
      "D:\\Anaconda3\\envs\\kaggle_TPS2208\\lib\\site-packages\\torch\\nn\\functional.py:1960: UserWarning: nn.functional.sigmoid is deprecated. Use torch.sigmoid instead.\n",
      "  warnings.warn(\"nn.functional.sigmoid is deprecated. Use torch.sigmoid instead.\")\n"
     ]
    },
    {
     "name": "stdout",
     "output_type": "stream",
     "text": [
      "loss : 0.696009315235514\n",
      "loss : 0.6826769040783806\n",
      "loss : 0.6824953516884029\n",
      "loss : 0.6795942346814653\n",
      "loss : 0.6772116736067293\n",
      "loss : 0.6739032749838673\n",
      "loss : 0.677945936509701\n",
      "loss : 0.6743779168442381\n",
      "loss : 0.6733243336699938\n",
      "loss : 0.6753055405728694\n",
      "loss : 0.672560647619722\n",
      "loss : 0.6733029342033494\n",
      "loss : 0.6734298400475945\n",
      "loss : 0.6732962111911863\n",
      "loss : 0.6710185064396388\n",
      "loss : 0.6704079805405487\n",
      "loss : 0.6720888256467005\n",
      "loss : 0.6745074282229786\n",
      "loss : 0.6751342541734937\n",
      "loss : 0.6673564715004863\n",
      "loss : 0.6699487323492346\n",
      "loss : 0.6696269422629629\n",
      "loss : 0.671467533973461\n",
      "loss : 0.6692697417008485\n",
      "loss : 0.6717795547745038\n",
      "loss : 0.6688743759768669\n",
      "loss : 0.6665067644746091\n",
      "loss : 0.6687556460429805\n",
      "loss : 0.6712715863621851\n",
      "loss : 0.6702216466267904\n",
      "loss : 0.6695726592216134\n",
      "loss : 0.6700936569854128\n",
      "loss : 0.6675869453121239\n",
      "loss : 0.66949158095418\n",
      "loss : 0.6702520640243387\n",
      "loss : 0.6702058180956774\n",
      "loss : 0.6694429718272786\n",
      "loss : 0.6680102530219745\n",
      "loss : 0.6705950140393396\n",
      "loss : 0.6671636902110677\n",
      "loss : 0.6684160587933142\n",
      "loss : 0.6658511701883845\n",
      "loss : 0.6698331029762125\n",
      "loss : 0.6677422204487761\n",
      "loss : 0.6682535104908294\n",
      "loss : 0.6700232608217589\n",
      "loss : 0.6682409207585832\n",
      "loss : 0.6699340827588184\n",
      "loss : 0.66907554277232\n",
      "loss : 0.6728359080256431\n",
      "loss : 0.6671776376979451\n",
      "loss : 0.6691766468012277\n",
      "loss : 0.6692899904900314\n",
      "loss : 0.669947282809047\n",
      "loss : 0.6687300963580888\n",
      "loss : 0.6693639341094684\n",
      "loss : 0.666540866726441\n",
      "loss : 0.6694562225274636\n",
      "loss : 0.6665939204569714\n",
      "loss : 0.6675031249511969\n",
      "loss : 0.6686417762662323\n",
      "loss : 0.6700308096240943\n",
      "loss : 0.6677895137961481\n",
      "loss : 0.6696169533080338\n",
      "loss : 0.6694294068734971\n",
      "loss : 0.6676815737021361\n",
      "loss : 0.6647461249794758\n",
      "loss : 0.6687078117764612\n",
      "loss : 0.6665638374610686\n",
      "loss : 0.667172006877935\n",
      "loss : 0.6670908843967277\n",
      "loss : 0.6686378728615846\n",
      "loss : 0.6674943697844313\n",
      "loss : 0.6677772629428917\n",
      "loss : 0.667597878986681\n",
      "loss : 0.6671120306135903\n",
      "loss : 0.6667264795079477\n",
      "loss : 0.6683099222295161\n",
      "loss : 0.6675530548946399\n",
      "loss : 0.6692918600610724\n",
      "loss : 0.6664175343625423\n",
      "loss : 0.6660968319910793\n",
      "loss : 0.6671289927522901\n",
      "loss : 0.6712263108978809\n",
      "loss : 0.6671104683002955\n",
      "loss : 0.6672252592906146\n",
      "loss : 0.6692588287340083\n",
      "loss : 0.6684190851981651\n",
      "loss : 0.670218760698614\n",
      "loss : 0.6675016351149116\n",
      "loss : 0.6691046922419552\n",
      "loss : 0.6656093714942395\n",
      "loss : 0.6704561637600822\n",
      "loss : 0.6680637810711569\n",
      "loss : 0.6685986006763619\n",
      "loss : 0.6693893382806733\n",
      "loss : 0.6662716823564448\n",
      "loss : 0.6716173165281054\n",
      "loss : 0.6699640255578807\n",
      "loss : 0.6694665156619649\n"
     ]
    }
   ],
   "source": [
    "train(model, train_dataloader, 1000)"
   ]
  },
  {
   "cell_type": "code",
   "execution_count": 112,
   "id": "0d6f84a1",
   "metadata": {},
   "outputs": [],
   "source": [
    "y_train_pred = model(x_train).detach().numpy()\n",
    "y_train = y_train.detach().numpy()\n",
    "\n",
    "y_val_pred = model(x_val).detach().numpy()\n",
    "y_val = y_val.detach().numpy()"
   ]
  },
  {
   "cell_type": "code",
   "execution_count": 113,
   "id": "d3b8e60b",
   "metadata": {
    "scrolled": true
   },
   "outputs": [
    {
     "name": "stdout",
     "output_type": "stream",
     "text": [
      "train_score: 0.6364732904639538\n",
      "val_score 0.5381308615214504\n"
     ]
    }
   ],
   "source": [
    "from sklearn.metrics import roc_auc_score\n",
    "\n",
    "train_score = roc_auc_score(y_train, y_train_pred)\n",
    "val_score = roc_auc_score(y_val, y_val_pred)\n",
    "\n",
    "print('train_score:', train_score)\n",
    "print('val_score', val_score)"
   ]
  },
  {
   "cell_type": "code",
   "execution_count": 114,
   "id": "580ccebb",
   "metadata": {},
   "outputs": [
    {
     "name": "stdout",
     "output_type": "stream",
     "text": [
      "Collecting pytorch-tabnet\n",
      "  Downloading pytorch_tabnet-3.1.1-py3-none-any.whl (39 kB)\n",
      "Collecting tqdm<5.0,>=4.36\n",
      "  Using cached tqdm-4.64.0-py2.py3-none-any.whl (78 kB)\n",
      "Requirement already satisfied: scikit_learn>0.21 in d:\\anaconda3\\envs\\kaggle_tps2208\\lib\\site-packages (from pytorch-tabnet) (1.1.2)\n",
      "Requirement already satisfied: numpy<2.0,>=1.17 in d:\\anaconda3\\envs\\kaggle_tps2208\\lib\\site-packages (from pytorch-tabnet) (1.23.2)\n",
      "Requirement already satisfied: scipy>1.4 in d:\\anaconda3\\envs\\kaggle_tps2208\\lib\\site-packages (from pytorch-tabnet) (1.9.0)\n",
      "Requirement already satisfied: torch<2.0,>=1.2 in d:\\anaconda3\\envs\\kaggle_tps2208\\lib\\site-packages (from pytorch-tabnet) (1.12.1)\n",
      "Requirement already satisfied: joblib>=1.0.0 in d:\\anaconda3\\envs\\kaggle_tps2208\\lib\\site-packages (from scikit_learn>0.21->pytorch-tabnet) (1.1.0)\n",
      "Requirement already satisfied: threadpoolctl>=2.0.0 in d:\\anaconda3\\envs\\kaggle_tps2208\\lib\\site-packages (from scikit_learn>0.21->pytorch-tabnet) (3.1.0)\n",
      "Requirement already satisfied: typing_extensions in d:\\anaconda3\\envs\\kaggle_tps2208\\lib\\site-packages (from torch<2.0,>=1.2->pytorch-tabnet) (4.3.0)\n",
      "Requirement already satisfied: colorama in d:\\anaconda3\\envs\\kaggle_tps2208\\lib\\site-packages (from tqdm<5.0,>=4.36->pytorch-tabnet) (0.4.5)\n",
      "Installing collected packages: tqdm, pytorch-tabnet\n",
      "Successfully installed pytorch-tabnet-3.1.1 tqdm-4.64.0\n"
     ]
    }
   ],
   "source": [
    "!pip install pytorch-tabnet"
   ]
  }
 ],
 "metadata": {
  "kernelspec": {
   "display_name": "Python 3 (ipykernel)",
   "language": "python",
   "name": "python3"
  },
  "language_info": {
   "codemirror_mode": {
    "name": "ipython",
    "version": 3
   },
   "file_extension": ".py",
   "mimetype": "text/x-python",
   "name": "python",
   "nbconvert_exporter": "python",
   "pygments_lexer": "ipython3",
   "version": "3.9.12"
  }
 },
 "nbformat": 4,
 "nbformat_minor": 5
}
